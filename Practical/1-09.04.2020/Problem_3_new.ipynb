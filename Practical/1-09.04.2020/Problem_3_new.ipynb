{
 "cells": [
  {
   "cell_type": "code",
   "execution_count": 4,
   "metadata": {},
   "outputs": [
    {
     "data": {
      "text/plain": [
       "'235'"
      ]
     },
     "execution_count": 4,
     "metadata": {},
     "output_type": "execute_result"
    }
   ],
   "source": [
    "def no_double_digit (number_list):\n",
    "    new_list=[]\n",
    "    for i in number_list:\n",
    "        i = str(i)\n",
    "        if len(set(i)) == len(i):\n",
    "            new_list.append(i)\n",
    "            \n",
    "    if not new_list:\n",
    "                return -1\n",
    "    else: return new_list[0]\n",
    "            \n",
    "            \n",
    "no_double_digit([121,133,235, 468])"
   ]
  },
  {
   "cell_type": "code",
   "execution_count": null,
   "metadata": {},
   "outputs": [],
   "source": [
    "#Հարց - ինչպես կարող եմ կանգնեցնել for-ը առաջին բավարարի դեպքում՞"
   ]
  }
 ],
 "metadata": {
  "kernelspec": {
   "display_name": "Python 3",
   "language": "python",
   "name": "python3"
  },
  "language_info": {
   "codemirror_mode": {
    "name": "ipython",
    "version": 3
   },
   "file_extension": ".py",
   "mimetype": "text/x-python",
   "name": "python",
   "nbconvert_exporter": "python",
   "pygments_lexer": "ipython3",
   "version": "3.7.6"
  }
 },
 "nbformat": 4,
 "nbformat_minor": 4
}
