{
 "cells": [
  {
   "cell_type": "code",
   "execution_count": 102,
   "metadata": {},
   "outputs": [],
   "source": [
    "#1\n",
    "\n",
    "class Roman_Numerals:\n",
    "    dict1 = {\"I\" : 1, \"V\" : 5, \"X\" : 10, \"L\" : 50, \"C\" : 100, \"D\" : 500, \"M\" : 1000}\n",
    "    \n",
    "    def __init__(self):\n",
    "        pass\n",
    "    \n",
    "    def convert(self, num):\n",
    "        result = 0\n",
    "        for i,j in enumerate(num):\n",
    "            if (i+1) == len(num) or self.dict1[j] >= self.dict1[num[i+1]]:\n",
    "                result += self.dict1[j]\n",
    "            else:\n",
    "                result -= self.dict1[j]\n",
    "        return result\n",
    "        \n",
    "    def add(self,num1,num2):\n",
    "        return self.convert(num1) + self.convert(num2)\n",
    "    \n",
    "    def subtract(self,num1,num2):\n",
    "        return self.convert(num1) - self.convert(num2)\n",
    "    \n",
    "    def multiple(self,num1,num2):\n",
    "        return self.convert(num1) * self.convert(num2)\n",
    "    \n",
    "    def divide(self,num1,num2):\n",
    "        return self.convert(num1) / self.convert(num2)"
   ]
  },
  {
   "cell_type": "code",
   "execution_count": 103,
   "metadata": {},
   "outputs": [
    {
     "name": "stdout",
     "output_type": "stream",
     "text": [
      "20\n",
      "45\n",
      "7\n",
      "494\n",
      "1.368421052631579\n"
     ]
    }
   ],
   "source": [
    "a = Roman_Numerals()\n",
    "print(a.convert(\"XX\"))\n",
    "print(a.add(\"XXVI\",\"XIX\"))\n",
    "print(a.subtract(\"XXVI\",\"XIX\"))\n",
    "print(a.multiple(\"XXVI\",\"XIX\"))\n",
    "print(a.divide(\"XXVI\",\"XIX\"))"
   ]
  },
  {
   "cell_type": "code",
   "execution_count": null,
   "metadata": {},
   "outputs": [],
   "source": []
  },
  {
   "cell_type": "code",
   "execution_count": 100,
   "metadata": {},
   "outputs": [],
   "source": [
    "#2\n",
    "class Person:\n",
    "    \n",
    "    def __init__(self, name, last_name, age, gender, student, password):\n",
    "        self.name = name\n",
    "        self.last_name = last_name\n",
    "        self.age = age\n",
    "        self.gender = gender\n",
    "        self.student = student\n",
    "        self.__password = password\n",
    "        \n",
    "    def Greeting(self,second_person):\n",
    "        return f\"Welcome dear {second_person}.\"\n",
    "        \n",
    "    def Goodbye(self):\n",
    "        return \"Bye everyone!\"\n",
    "        \n",
    "    def Favourite_num(self,num1):\n",
    "        print(f\"My favorite number is {num1}\")"
   ]
  },
  {
   "cell_type": "code",
   "execution_count": 101,
   "metadata": {},
   "outputs": [
    {
     "name": "stdout",
     "output_type": "stream",
     "text": [
      "Bye everyone!\n",
      "My favorite number is 2\n",
      "None\n"
     ]
    }
   ],
   "source": [
    "Person1 = Person(\"Liana\", \"Varosyan\",27, \"F\", \"Yes\",\"1jsws\")\n",
    "# print(Person1.Greeting(\"Anna\"))\n",
    "print(Person1.Goodbye())\n",
    "print(Person1.Favourite_num(2))"
   ]
  },
  {
   "cell_type": "code",
   "execution_count": null,
   "metadata": {},
   "outputs": [],
   "source": []
  },
  {
   "cell_type": "code",
   "execution_count": 197,
   "metadata": {},
   "outputs": [],
   "source": [
    "#3\n",
    "class Polygon:\n",
    "    def __init__(self, number_sides):\n",
    "        self.number_sides = number_sides\n",
    "        self.lenght_sides = list()  \n",
    "    def input_sides(self, lenght_sides):\n",
    "        self.lenght_sides = lenght_sides\n",
    "    def get_perimeter(self):\n",
    "        return sum(self.lenght_sides)\n",
    "        \n",
    "class Quadrilateral(Polygon):\n",
    "    def __init__(self):\n",
    "        super().__init__(4) \n",
    "        \n",
    "class Rectangle(Quadrilateral):\n",
    "    def input_sides(self, lenght_sides):\n",
    "        self.lenght_sides = lenght_sides\n",
    "        return super().input_sides(lenght_sides*2)\n",
    "    \n",
    "    def get_area(self):\n",
    "        return self.lenght_sides[0] * self.lenght_sides[1]\n",
    "    \n",
    "class Square(Rectangle):\n",
    "    def input_sides(self, lenght_sides):\n",
    "        self.lenght_sides = lenght_sides\n",
    "        return super().input_sides(lenght_sides*2)\n",
    "    \n",
    "    def get_area(self):\n",
    "        return self.lenght_sides[0]**2"
   ]
  },
  {
   "cell_type": "code",
   "execution_count": 198,
   "metadata": {},
   "outputs": [],
   "source": [
    "a = Rectangle()\n",
    "b = Square()\n",
    "a.input_sides([5,4])\n",
    "b.input_sides([4])"
   ]
  },
  {
   "cell_type": "code",
   "execution_count": 200,
   "metadata": {},
   "outputs": [
    {
     "name": "stdout",
     "output_type": "stream",
     "text": [
      "18\n",
      "20\n",
      "16\n",
      "16\n"
     ]
    }
   ],
   "source": [
    "print(a.get_perimeter())\n",
    "print(a.get_area())\n",
    "print(b.get_perimeter())\n",
    "print(b.get_area())"
   ]
  },
  {
   "cell_type": "code",
   "execution_count": null,
   "metadata": {},
   "outputs": [],
   "source": []
  }
 ],
 "metadata": {
  "kernelspec": {
   "display_name": "Python 3",
   "language": "python",
   "name": "python3"
  },
  "language_info": {
   "codemirror_mode": {
    "name": "ipython",
    "version": 3
   },
   "file_extension": ".py",
   "mimetype": "text/x-python",
   "name": "python",
   "nbconvert_exporter": "python",
   "pygments_lexer": "ipython3",
   "version": "3.7.6"
  }
 },
 "nbformat": 4,
 "nbformat_minor": 4
}
