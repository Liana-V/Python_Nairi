{
 "cells": [
  {
   "cell_type": "code",
   "execution_count": 29,
   "metadata": {},
   "outputs": [
    {
     "data": {
      "text/plain": [
       "{'is': 2,\n",
       " 'about': 2,\n",
       " 'python': 1,\n",
       " 'coding': 1,\n",
       " 'book': 2,\n",
       " 'what': 1,\n",
       " 'this': 2}"
      ]
     },
     "execution_count": 29,
     "metadata": {},
     "output_type": "execute_result"
    }
   ],
   "source": [
    "def my_string(a):\n",
    "    \n",
    "    import string\n",
    "    \n",
    "    punct_list = string.punctuation\n",
    "    \n",
    "    string_no_punct = \"\"\n",
    "    for char in a:\n",
    "        if char not in punct_list:\n",
    "            string_no_punct+=char\n",
    "        \n",
    "    string_low_spl = string_no_punct.lower().split()\n",
    "    my_dict = {}\n",
    "    #ավելացրել եմ, որ կրկնվողների վրայով չանցնի\n",
    "    unique_words = set(string_low_spl)\n",
    "    for item in unique_words:\n",
    "        my_dict[item] = string_low_spl.count(item)\n",
    "        \n",
    "    return my_dict\n",
    "\n",
    "my_string(\"What is this book about? This book is about python coding.\")"
   ]
  },
  {
   "cell_type": "raw",
   "metadata": {},
   "source": []
  },
  {
   "cell_type": "code",
   "execution_count": null,
   "metadata": {},
   "outputs": [],
   "source": []
  },
  {
   "cell_type": "code",
   "execution_count": null,
   "metadata": {},
   "outputs": [],
   "source": []
  },
  {
   "cell_type": "code",
   "execution_count": null,
   "metadata": {},
   "outputs": [],
   "source": []
  },
  {
   "cell_type": "code",
   "execution_count": null,
   "metadata": {},
   "outputs": [],
   "source": []
  },
  {
   "cell_type": "markdown",
   "metadata": {},
   "source": []
  },
  {
   "cell_type": "code",
   "execution_count": null,
   "metadata": {},
   "outputs": [],
   "source": []
  },
  {
   "cell_type": "code",
   "execution_count": null,
   "metadata": {},
   "outputs": [],
   "source": []
  },
  {
   "cell_type": "code",
   "execution_count": null,
   "metadata": {},
   "outputs": [],
   "source": []
  }
 ],
 "metadata": {
  "kernelspec": {
   "display_name": "Python 3",
   "language": "python",
   "name": "python3"
  },
  "language_info": {
   "codemirror_mode": {
    "name": "ipython",
    "version": 3
   },
   "file_extension": ".py",
   "mimetype": "text/x-python",
   "name": "python",
   "nbconvert_exporter": "python",
   "pygments_lexer": "ipython3",
   "version": "3.7.6"
  }
 },
 "nbformat": 4,
 "nbformat_minor": 4
}
