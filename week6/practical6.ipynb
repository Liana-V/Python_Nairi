{
 "cells": [
  {
   "cell_type": "code",
   "execution_count": 2,
   "metadata": {},
   "outputs": [],
   "source": [
    "#1\n",
    "\n",
    "from math import pi\n",
    "class Circle():\n",
    "    \n",
    "    def __init__(self, radius, color):\n",
    "        self.radius = radius\n",
    "        self.color = color\n",
    "        assert isinstance(radius, (int,float)) and radius > 0, \"Radius must be positive number\"\n",
    "        assert isinstance(color, str), \"Color must be string\"\n",
    "        print(f\"A {color} circle with radius {radius}\")\n",
    "           \n",
    "    def area(self):\n",
    "        return self.radius ** 2 * pi\n",
    "    \n",
    "    def circumference(self):\n",
    "        return  self.radius * 2 * pi\n",
    "    \n",
    "    def __add__(self, b):\n",
    "        return Circle(self.radius + b.radius, self.color)"
   ]
  },
  {
   "cell_type": "code",
   "execution_count": 3,
   "metadata": {},
   "outputs": [
    {
     "name": "stdout",
     "output_type": "stream",
     "text": [
      "A red circle with radius 2.5\n",
      "19.634954084936208\n",
      "15.707963267948966\n",
      "A green circle with radius 2\n",
      "A red circle with radius 4.5\n"
     ]
    }
   ],
   "source": [
    "a = Circle(2.5,\"red\")\n",
    "print(a.area())\n",
    "print(a.circumference())\n",
    "b = Circle(2,\"green\")\n",
    "c = a + b"
   ]
  },
  {
   "cell_type": "code",
   "execution_count": 105,
   "metadata": {},
   "outputs": [],
   "source": [
    "#2\n",
    "class RomanNumber:\n",
    "    def __init__(self, roman_number):\n",
    "        self.number = roman_number\n",
    "        \n",
    "    def get_num(self):\n",
    "        return self.number\n",
    "    \n",
    "    def set_num(self, num1):\n",
    "        self.number = num1\n",
    "        \n",
    "    \n",
    "    def convert_to_num(self):\n",
    "        num_dict = {'I':1, 'V':5, 'X':10, 'L':50, 'C':100, 'D':500, 'M':1000}\n",
    "        assert all([i in num_dict for i in self.number]), \"Not valid symbol for roman number\"\n",
    "        \n",
    "        result = 0\n",
    "        for key,value in enumerate(self.number):\n",
    "            if len(self.number) == (key+1) or num_dict[value] >= num_dict[self.number[key+1]]:\n",
    "                result += num_dict[value]\n",
    "            else:\n",
    "                result -= num_dict[value]\n",
    "        \n",
    "        def convert_to_roman(self, num):\n",
    "            val = [1000, 900, 500, 400,100, 90, 50, 40, 10, 9, 5, 4, 1]\n",
    "            syb = [\"M\", \"CM\", \"D\", \"CD\", \"C\", \"XC\", \"L\", \"XL\", \"X\", \"IX\", \"V\", \"IV\", \"I\"]\n",
    "            roman_num = ''\n",
    "            i = 0\n",
    "            while  num > 0:\n",
    "                for _ in range(num // val[i]):\n",
    "                    roman_num += syb[i]\n",
    "                    num -= val[i]\n",
    "                i += 1\n",
    "            return roman_num\n",
    "\n",
    "\n",
    "        assert self.number == convert_to_roman(self,result), \"Invalid Roman Number\"\n",
    "        return result\n",
    "         \n",
    "    def add(self, x):\n",
    "        return RomanNumber(self.convert_to_roman(self.convert_to_num()+x.convert_to_num()))   "
   ]
  },
  {
   "cell_type": "code",
   "execution_count": 108,
   "metadata": {},
   "outputs": [
    {
     "ename": "AssertionError",
     "evalue": "Invalid Roman Number",
     "output_type": "error",
     "traceback": [
      "\u001b[1;31m---------------------------------------------------------------------------\u001b[0m",
      "\u001b[1;31mAssertionError\u001b[0m                            Traceback (most recent call last)",
      "\u001b[1;32m<ipython-input-108-4a2f334435ee>\u001b[0m in \u001b[0;36m<module>\u001b[1;34m\u001b[0m\n\u001b[0;32m      1\u001b[0m \u001b[0mb\u001b[0m\u001b[1;33m=\u001b[0m \u001b[0mRomanNumber\u001b[0m\u001b[1;33m(\u001b[0m\u001b[1;34m\"XIVX\"\u001b[0m\u001b[1;33m)\u001b[0m\u001b[1;33m\u001b[0m\u001b[1;33m\u001b[0m\u001b[0m\n\u001b[1;32m----> 2\u001b[1;33m \u001b[0mb\u001b[0m\u001b[1;33m.\u001b[0m\u001b[0mconvert_to_num\u001b[0m\u001b[1;33m(\u001b[0m\u001b[1;33m)\u001b[0m\u001b[1;33m\u001b[0m\u001b[1;33m\u001b[0m\u001b[0m\n\u001b[0m",
      "\u001b[1;32m<ipython-input-105-a9138ec501b6>\u001b[0m in \u001b[0;36mconvert_to_num\u001b[1;34m(self)\u001b[0m\n\u001b[0;32m     35\u001b[0m \u001b[1;33m\u001b[0m\u001b[0m\n\u001b[0;32m     36\u001b[0m \u001b[1;33m\u001b[0m\u001b[0m\n\u001b[1;32m---> 37\u001b[1;33m         \u001b[1;32massert\u001b[0m \u001b[0mself\u001b[0m\u001b[1;33m.\u001b[0m\u001b[0mnumber\u001b[0m \u001b[1;33m==\u001b[0m \u001b[0mconvert_to_roman\u001b[0m\u001b[1;33m(\u001b[0m\u001b[0mself\u001b[0m\u001b[1;33m,\u001b[0m\u001b[0mresult\u001b[0m\u001b[1;33m)\u001b[0m\u001b[1;33m,\u001b[0m \u001b[1;34m\"Invalid Roman Number\"\u001b[0m\u001b[1;33m\u001b[0m\u001b[1;33m\u001b[0m\u001b[0m\n\u001b[0m\u001b[0;32m     38\u001b[0m         \u001b[1;32mreturn\u001b[0m \u001b[0mresult\u001b[0m\u001b[1;33m\u001b[0m\u001b[1;33m\u001b[0m\u001b[0m\n\u001b[0;32m     39\u001b[0m \u001b[1;33m\u001b[0m\u001b[0m\n",
      "\u001b[1;31mAssertionError\u001b[0m: Invalid Roman Number"
     ]
    }
   ],
   "source": [
    "b= RomanNumber(\"XIVX\")\n",
    "b.convert_to_num()"
   ]
  },
  {
   "cell_type": "code",
   "execution_count": null,
   "metadata": {},
   "outputs": [],
   "source": []
  },
  {
   "cell_type": "code",
   "execution_count": null,
   "metadata": {},
   "outputs": [],
   "source": []
  },
  {
   "cell_type": "code",
   "execution_count": 4,
   "metadata": {},
   "outputs": [],
   "source": [
    "#3\n",
    "class Person:\n",
    "    def __init__(self,name,last_name,age,gender,student,password): \n",
    "        self.name=name \n",
    "        self.last_name = last_name\n",
    "        self.age = age\n",
    "        self.gender = gender\n",
    "        self.__password = password\n",
    "        self.student=student\n",
    "        \n",
    "        assert isinstance (name,str), \"Name must be string type\"\n",
    "        assert isinstance (last_name,str), \"Last name must be string type\"\n",
    "        assert isinstance (age, int) and age > 0, \"Age must be positive integer type\"\n",
    "        assert isinstance (gender, str), \"Gender must be string type\"\n",
    "        assert isinstance (student, bool), \"Student must be boolean type\"\n",
    "        assert isinstance (password, str), \"Password must be string\"\n",
    "            \n",
    "    def Greeting(self,second_person):\n",
    "        return 'Welcome dear {}'.format(second_person.name)\n",
    "    \n",
    "    def Goodbye(self):\n",
    "        print( \"Bye everyone!\" )\n",
    "    \n",
    "    def Favourite_num(self, num1):\n",
    "        return 'My favorite number is {}'.format(num1)\n",
    "    \n",
    "     \n",
    "    def Read_file(self, filename):\n",
    "        assert isinstance(filename,str), \"Filename must be string\"\n",
    "        try:\n",
    "            f = open(f\"{filename}.txt\")\n",
    "        except FileNotFoundError:\n",
    "            print('Sorry, this file does not exist')"
   ]
  },
  {
   "cell_type": "code",
   "execution_count": 5,
   "metadata": {},
   "outputs": [
    {
     "ename": "AssertionError",
     "evalue": "Age must be positive integer type",
     "output_type": "error",
     "traceback": [
      "\u001b[1;31m---------------------------------------------------------------------------\u001b[0m",
      "\u001b[1;31mAssertionError\u001b[0m                            Traceback (most recent call last)",
      "\u001b[1;32m<ipython-input-5-31b3592e5463>\u001b[0m in \u001b[0;36m<module>\u001b[1;34m\u001b[0m\n\u001b[1;32m----> 1\u001b[1;33m \u001b[0mf\u001b[0m \u001b[1;33m=\u001b[0m \u001b[0mPerson\u001b[0m\u001b[1;33m(\u001b[0m\u001b[1;34m\"Liana\"\u001b[0m\u001b[1;33m,\u001b[0m \u001b[1;34m\"Varosyan\"\u001b[0m\u001b[1;33m,\u001b[0m \u001b[1;33m-\u001b[0m\u001b[1;36m27\u001b[0m\u001b[1;33m,\u001b[0m \u001b[1;34m\"F\"\u001b[0m\u001b[1;33m,\u001b[0m \u001b[1;32mTrue\u001b[0m\u001b[1;33m,\u001b[0m \u001b[1;34m\"swkxas\"\u001b[0m\u001b[1;33m)\u001b[0m\u001b[1;33m\u001b[0m\u001b[1;33m\u001b[0m\u001b[0m\n\u001b[0m\u001b[0;32m      2\u001b[0m \u001b[0mf\u001b[0m\u001b[1;33m.\u001b[0m\u001b[0mRead_file\u001b[0m\u001b[1;33m(\u001b[0m\u001b[1;34m\"problems\"\u001b[0m\u001b[1;33m)\u001b[0m\u001b[1;33m\u001b[0m\u001b[1;33m\u001b[0m\u001b[0m\n",
      "\u001b[1;32m<ipython-input-4-cc703da4f01a>\u001b[0m in \u001b[0;36m__init__\u001b[1;34m(self, name, last_name, age, gender, student, password)\u001b[0m\n\u001b[0;32m     11\u001b[0m         \u001b[1;32massert\u001b[0m \u001b[0misinstance\u001b[0m \u001b[1;33m(\u001b[0m\u001b[0mname\u001b[0m\u001b[1;33m,\u001b[0m\u001b[0mstr\u001b[0m\u001b[1;33m)\u001b[0m\u001b[1;33m,\u001b[0m \u001b[1;34m\"Name must be string type\"\u001b[0m\u001b[1;33m\u001b[0m\u001b[1;33m\u001b[0m\u001b[0m\n\u001b[0;32m     12\u001b[0m         \u001b[1;32massert\u001b[0m \u001b[0misinstance\u001b[0m \u001b[1;33m(\u001b[0m\u001b[0mlast_name\u001b[0m\u001b[1;33m,\u001b[0m\u001b[0mstr\u001b[0m\u001b[1;33m)\u001b[0m\u001b[1;33m,\u001b[0m \u001b[1;34m\"Last name must be string type\"\u001b[0m\u001b[1;33m\u001b[0m\u001b[1;33m\u001b[0m\u001b[0m\n\u001b[1;32m---> 13\u001b[1;33m         \u001b[1;32massert\u001b[0m \u001b[0misinstance\u001b[0m \u001b[1;33m(\u001b[0m\u001b[0mage\u001b[0m\u001b[1;33m,\u001b[0m \u001b[0mint\u001b[0m\u001b[1;33m)\u001b[0m \u001b[1;32mand\u001b[0m \u001b[0mage\u001b[0m \u001b[1;33m>\u001b[0m \u001b[1;36m0\u001b[0m\u001b[1;33m,\u001b[0m \u001b[1;34m\"Age must be positive integer type\"\u001b[0m\u001b[1;33m\u001b[0m\u001b[1;33m\u001b[0m\u001b[0m\n\u001b[0m\u001b[0;32m     14\u001b[0m         \u001b[1;32massert\u001b[0m \u001b[0misinstance\u001b[0m \u001b[1;33m(\u001b[0m\u001b[0mgender\u001b[0m\u001b[1;33m,\u001b[0m \u001b[0mstr\u001b[0m\u001b[1;33m)\u001b[0m\u001b[1;33m,\u001b[0m \u001b[1;34m\"Gender must be string type\"\u001b[0m\u001b[1;33m\u001b[0m\u001b[1;33m\u001b[0m\u001b[0m\n\u001b[0;32m     15\u001b[0m         \u001b[1;32massert\u001b[0m \u001b[0misinstance\u001b[0m \u001b[1;33m(\u001b[0m\u001b[0mstudent\u001b[0m\u001b[1;33m,\u001b[0m \u001b[0mbool\u001b[0m\u001b[1;33m)\u001b[0m\u001b[1;33m,\u001b[0m \u001b[1;34m\"Student must be boolean type\"\u001b[0m\u001b[1;33m\u001b[0m\u001b[1;33m\u001b[0m\u001b[0m\n",
      "\u001b[1;31mAssertionError\u001b[0m: Age must be positive integer type"
     ]
    }
   ],
   "source": [
    "f = Person(\"Liana\", \"Varosyan\", -27, \"F\", True, \"swkxas\")\n",
    "f.Read_file(\"problems\")"
   ]
  },
  {
   "cell_type": "code",
   "execution_count": 189,
   "metadata": {},
   "outputs": [
    {
     "name": "stdout",
     "output_type": "stream",
     "text": [
      "Sorry, this file does not exist\n"
     ]
    }
   ],
   "source": [
    "f.Read_file(\"PProblems\")"
   ]
  },
  {
   "cell_type": "code",
   "execution_count": 18,
   "metadata": {},
   "outputs": [],
   "source": [
    "#4\n",
    "class Polygon:\n",
    "    def __init__(self, n_of_sides):\n",
    "        self.n = n_of_sides\n",
    "        self.sides = list()\n",
    "        \n",
    "        assert isinstance(n_of_sides, int) and n_of_sides > 0, \"Number of sides must be a positive integer type\"\n",
    "\n",
    "    def input_sides(self, sides):\n",
    "        self.sides = sides\n",
    "        print(self.sides)\n",
    "\n",
    "    def disp_sides(self):\n",
    "        for i in range(self.n):\n",
    "            print(\"Side\",i+1,\"is\",self.sides[i])\n",
    "            \n",
    "    def get_perimeter(self):\n",
    "        return sum(self.sides)\n",
    "\n",
    "class Quadrilateral(Polygon):\n",
    "    def __init__(self):\n",
    "        super().__init__(4)        \n",
    "        \n",
    "class  Rectangle(Quadrilateral):  \n",
    "    def input_sides(self, s):\n",
    "        assert len(s) == 2 and min(s) > 0, \"You should write two positive number\"\n",
    "        super().input_sides(s*2)\n",
    "        \n",
    "        \n",
    "    def get_area(self):\n",
    "        return self.sides[0] * self.sides[1]\n",
    "    \n",
    "class  Square(Rectangle):\n",
    "    def input_sides(self,s):\n",
    "        assert len(s) == 1 and s[0] > 0, \"You should write one positive number\"\n",
    "        super().input_sides(s*2)\n"
   ]
  },
  {
   "cell_type": "code",
   "execution_count": 19,
   "metadata": {},
   "outputs": [],
   "source": [
    "k = Rectangle()"
   ]
  },
  {
   "cell_type": "code",
   "execution_count": 20,
   "metadata": {},
   "outputs": [
    {
     "name": "stdout",
     "output_type": "stream",
     "text": [
      "[0.1, 2, 0.1, 2]\n"
     ]
    }
   ],
   "source": [
    "k.input_sides([0.1,2])"
   ]
  },
  {
   "cell_type": "code",
   "execution_count": null,
   "metadata": {},
   "outputs": [],
   "source": []
  },
  {
   "cell_type": "code",
   "execution_count": null,
   "metadata": {},
   "outputs": [],
   "source": []
  }
 ],
 "metadata": {
  "kernelspec": {
   "display_name": "Python 3",
   "language": "python",
   "name": "python3"
  },
  "language_info": {
   "codemirror_mode": {
    "name": "ipython",
    "version": 3
   },
   "file_extension": ".py",
   "mimetype": "text/x-python",
   "name": "python",
   "nbconvert_exporter": "python",
   "pygments_lexer": "ipython3",
   "version": "3.7.6"
  }
 },
 "nbformat": 4,
 "nbformat_minor": 4
}
