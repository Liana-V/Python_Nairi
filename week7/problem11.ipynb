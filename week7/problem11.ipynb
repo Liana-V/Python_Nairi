{
 "cells": [
  {
   "cell_type": "code",
   "execution_count": 87,
   "metadata": {},
   "outputs": [],
   "source": [
    "#11+\n",
    "import xml.etree.ElementTree as ET"
   ]
  },
  {
   "cell_type": "code",
   "execution_count": 88,
   "metadata": {},
   "outputs": [],
   "source": [
    "file = ET.parse(\"movies.xml\")\n",
    "root = file.getroot()\n",
    "\n",
    "action = root.find(\"./genre[@category='Action']\")         \n",
    "thriller = root.find(\"./genre[@category='Thriller']\")     \n",
    "\n",
    "new_decade_action = ET.SubElement(action, 'decade')      #new child in action\n",
    "new_decade_action.attrib[\"years\"] = '2000s'\n",
    "\n",
    "\n",
    "new_decade_thriller = ET.SubElement(thriller, 'decade')      #new child in thriller\n",
    "new_decade_thriller.attrib[\"years\"] = '2000s'"
   ]
  },
  {
   "cell_type": "code",
   "execution_count": 89,
   "metadata": {},
   "outputs": [],
   "source": [
    "decade2000s_action = root.find(\"./genre[@category='Action']/decade[@years='2000s']\")\n",
    "decade2000s_thriller = root.find(\"./genre[@category='Thriller']/decade[@years='2000s']\")\n",
    "\n",
    "decade1990s = root.find(\"./genre[@category='Action']/decade[@years='1990s']\")\n",
    "decade1980s = root.find(\"./genre[@category='Thriller']/decade[@years='1980s']\")"
   ]
  },
  {
   "cell_type": "code",
   "execution_count": 90,
   "metadata": {},
   "outputs": [],
   "source": [
    "X_Men = root.find(\"./genre/decade/movie[@title='X-Men']\")                    # append & remove X_men\n",
    "\n",
    "decade1990s.remove(X_Men)\n",
    "decade2000s_action.append(X_Men)"
   ]
  },
  {
   "cell_type": "code",
   "execution_count": 91,
   "metadata": {},
   "outputs": [],
   "source": [
    "American_psycho = root.find(\"./genre/decade/movie[@title='American Psycho']\")         # append & remove American_psycho\n",
    "\n",
    "decade1980s.remove(American_psycho)\n",
    "decade2000s_thriller.append(American_psycho)"
   ]
  },
  {
   "cell_type": "code",
   "execution_count": 92,
   "metadata": {},
   "outputs": [],
   "source": [
    "file.write(\"new.xml\")"
   ]
  },
  {
   "cell_type": "code",
   "execution_count": null,
   "metadata": {},
   "outputs": [],
   "source": []
  }
 ],
 "metadata": {
  "kernelspec": {
   "display_name": "Python 3",
   "language": "python",
   "name": "python3"
  },
  "language_info": {
   "codemirror_mode": {
    "name": "ipython",
    "version": 3
   },
   "file_extension": ".py",
   "mimetype": "text/x-python",
   "name": "python",
   "nbconvert_exporter": "python",
   "pygments_lexer": "ipython3",
   "version": "3.7.6"
  }
 },
 "nbformat": 4,
 "nbformat_minor": 4
}
