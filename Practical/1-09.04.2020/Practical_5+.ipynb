{
 "cells": [
  {
   "cell_type": "code",
   "execution_count": 20,
   "metadata": {},
   "outputs": [
    {
     "name": "stdout",
     "output_type": "stream",
     "text": [
      "24\n"
     ]
    }
   ],
   "source": [
    "def isFactorial(n): \n",
    "    i = 1; \n",
    "    while(True) :   \n",
    "        if (n % i == 0) : \n",
    "            n //= i;        \n",
    "        else : \n",
    "            break;         \n",
    "        i += 1; \n",
    "    if (n == 1) : \n",
    "        return True;   \n",
    "    else : \n",
    "        return False;\n",
    "    \n",
    "    \n",
    "def findNumber (a):\n",
    "    for i in range(10,2**10): #ինչ-որ մեծ թիվ\n",
    "        if isFactorial(i) is True:\n",
    "            break;\n",
    "    print(i)\n",
    "    \n",
    "findNumber(10)\n"
   ]
  },
  {
   "cell_type": "code",
   "execution_count": null,
   "metadata": {},
   "outputs": [],
   "source": []
  },
  {
   "cell_type": "code",
   "execution_count": null,
   "metadata": {},
   "outputs": [],
   "source": []
  },
  {
   "cell_type": "code",
   "execution_count": null,
   "metadata": {},
   "outputs": [],
   "source": []
  },
  {
   "cell_type": "code",
   "execution_count": null,
   "metadata": {},
   "outputs": [],
   "source": []
  },
  {
   "cell_type": "code",
   "execution_count": null,
   "metadata": {},
   "outputs": [],
   "source": []
  }
 ],
 "metadata": {
  "kernelspec": {
   "display_name": "Python 3",
   "language": "python",
   "name": "python3"
  },
  "language_info": {
   "codemirror_mode": {
    "name": "ipython",
    "version": 3
   },
   "file_extension": ".py",
   "mimetype": "text/x-python",
   "name": "python",
   "nbconvert_exporter": "python",
   "pygments_lexer": "ipython3",
   "version": "3.7.6"
  }
 },
 "nbformat": 4,
 "nbformat_minor": 4
}
