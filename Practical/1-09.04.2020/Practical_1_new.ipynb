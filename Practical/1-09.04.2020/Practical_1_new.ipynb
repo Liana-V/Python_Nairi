{
 "cells": [
  {
   "cell_type": "code",
   "execution_count": null,
   "metadata": {},
   "outputs": [],
   "source": []
  },
  {
   "cell_type": "code",
   "execution_count": 55,
   "metadata": {},
   "outputs": [
    {
     "data": {
      "text/plain": [
       "'amireca'"
      ]
     },
     "execution_count": 55,
     "metadata": {},
     "output_type": "execute_result"
    }
   ],
   "source": [
    "def reverse_vowels(text):\n",
    "    vowels = \"aeiouAEIOU\"\n",
    "    vowels_text=\"\"\n",
    "    for char in text:\n",
    "        if char in vowels:\n",
    "            vowels_text += char\n",
    "    result_text = \"\"\n",
    "    for char in text:\n",
    "        if char in vowels:\n",
    "            result_text += vowels_text[-1]\n",
    "            vowels_text = vowels_text[:-1]\n",
    "        else:\n",
    "            result_text += char\n",
    "            \n",
    "    return result_text\n",
    "\n",
    "\n",
    "\n",
    "reverse_vowels(\"america\")\n"
   ]
  },
  {
   "cell_type": "code",
   "execution_count": null,
   "metadata": {},
   "outputs": [],
   "source": []
  },
  {
   "cell_type": "code",
   "execution_count": null,
   "metadata": {},
   "outputs": [],
   "source": []
  },
  {
   "cell_type": "code",
   "execution_count": null,
   "metadata": {},
   "outputs": [],
   "source": []
  }
 ],
 "metadata": {
  "kernelspec": {
   "display_name": "Python 3",
   "language": "python",
   "name": "python3"
  },
  "language_info": {
   "codemirror_mode": {
    "name": "ipython",
    "version": 3
   },
   "file_extension": ".py",
   "mimetype": "text/x-python",
   "name": "python",
   "nbconvert_exporter": "python",
   "pygments_lexer": "ipython3",
   "version": "3.7.6"
  }
 },
 "nbformat": 4,
 "nbformat_minor": 4
}
