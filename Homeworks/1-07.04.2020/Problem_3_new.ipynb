{
 "cells": [
  {
   "cell_type": "code",
   "execution_count": 1,
   "metadata": {},
   "outputs": [
    {
     "name": "stdout",
     "output_type": "stream",
     "text": [
      "Simetric\n",
      "Not simetric\n"
     ]
    }
   ],
   "source": [
    "def string_reverse(b):\n",
    "    if b==b[::-1]:\n",
    "        return \"Simetric\"\n",
    "    else:\n",
    "        return \"Not simetric\"\n",
    "    \n",
    "print(string_reverse(\"ana\"))\n",
    "print(string_reverse(\"Liana\"))"
   ]
  },
  {
   "cell_type": "code",
   "execution_count": 2,
   "metadata": {},
   "outputs": [
    {
     "name": "stdout",
     "output_type": "stream",
     "text": [
      "Simetric\n",
      "Not simetric\n"
     ]
    }
   ],
   "source": [
    "def string_reverse2(c):\n",
    "    reverse_blank =\"\"\n",
    "    for i in c:\n",
    "        reverse_blank = i+reverse_blank\n",
    "    if reverse_blank == c:\n",
    "        return \"Sim\"\n",
    "    else:\n",
    "        return \"NOT\"\n",
    "        \n",
    "print(string_reverse(\"AA\"))\n",
    "print(string_reverse(\"AB\"))"
   ]
  },
  {
   "cell_type": "code",
   "execution_count": null,
   "metadata": {},
   "outputs": [],
   "source": []
  },
  {
   "cell_type": "code",
   "execution_count": null,
   "metadata": {},
   "outputs": [],
   "source": []
  }
 ],
 "metadata": {
  "kernelspec": {
   "display_name": "Python 3",
   "language": "python",
   "name": "python3"
  },
  "language_info": {
   "codemirror_mode": {
    "name": "ipython",
    "version": 3
   },
   "file_extension": ".py",
   "mimetype": "text/x-python",
   "name": "python",
   "nbconvert_exporter": "python",
   "pygments_lexer": "ipython3",
   "version": "3.7.6"
  }
 },
 "nbformat": 4,
 "nbformat_minor": 4
}
