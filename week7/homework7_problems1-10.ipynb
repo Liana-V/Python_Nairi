{
 "cells": [
  {
   "cell_type": "code",
   "execution_count": 165,
   "metadata": {},
   "outputs": [
    {
     "name": "stdout",
     "output_type": "stream",
     "text": [
      "{\n",
      "    \"Age\": 27,\n",
      "    \"Name\": \"Liana\",\n",
      "    \"Student\": true,\n",
      "    \"Surname\": \"Varosyan\"\n",
      "}\n"
     ]
    }
   ],
   "source": [
    "#1+\n",
    "import json\n",
    "\n",
    "my_dict = {\"Name\":\"Liana\", \"Surname\":\"Varosyan\", \"Student\":True, \"Age\":27}\n",
    "my_json = json.dumps(my_dict, sort_keys = True, indent = 4)\n",
    "print(my_json)"
   ]
  },
  {
   "cell_type": "code",
   "execution_count": 49,
   "metadata": {},
   "outputs": [
    {
     "data": {
      "text/plain": [
       "{'salary': 7000, 'bonus': 800}"
      ]
     },
     "execution_count": 49,
     "metadata": {},
     "output_type": "execute_result"
    }
   ],
   "source": [
    "#2+\n",
    "sampleJson = \"\"\"{ \n",
    "   \"company\":{ \n",
    "      \"employee\":{ \n",
    "         \"name\":\"emma\",\n",
    "         \"payble\":{ \n",
    "            \"salary\":7000,\n",
    "            \"bonus\":800\n",
    "         }\n",
    "      }\n",
    "   }\n",
    "}\"\"\"\n",
    "\n",
    "sampleJson_load = json.loads(sampleJson)\n",
    "sampleJson_load[\"company\"][\"employee\"][\"payble\"]"
   ]
  },
  {
   "cell_type": "code",
   "execution_count": 174,
   "metadata": {},
   "outputs": [
    {
     "name": "stdout",
     "output_type": "stream",
     "text": [
      "{\n",
      " \"name\": \"Toyota Rav4\",\n",
      " \"engine\": \"2.5L\",\n",
      " \"price\": 32000\n",
      "}\n"
     ]
    }
   ],
   "source": [
    "#3+\n",
    "from json import JSONEncoder\n",
    "\n",
    "class Vehicle:\n",
    "    def __init__(self, name, engine, price):\n",
    "        self.name = name\n",
    "        self.engine = engine\n",
    "        self.price = price\n",
    "\n",
    "class VehicleEncoder(JSONEncoder):\n",
    "        def default(self, obj):\n",
    "            return obj.__dict__\n",
    "\n",
    "vehicle = Vehicle(\"Toyota Rav4\", \"2.5L\", 32000)\n",
    "\n",
    "\n",
    "vehicle_json = json.dumps(vehicle,indent = 1, cls=VehicleEncoder)\n",
    "print(vehicle_json)"
   ]
  },
  {
   "cell_type": "code",
   "execution_count": 177,
   "metadata": {},
   "outputs": [
    {
     "data": {
      "text/plain": [
       "{'name': 'Toyota Rav4', 'engine': '2.5L', 'price': 32000}"
      ]
     },
     "execution_count": 177,
     "metadata": {},
     "output_type": "execute_result"
    }
   ],
   "source": [
    "#4\n",
    "json.loads(vehicle_json)"
   ]
  },
  {
   "cell_type": "code",
   "execution_count": 150,
   "metadata": {},
   "outputs": [
    {
     "name": "stdout",
     "output_type": "stream",
     "text": [
      "collection {}\n",
      "genre {'category': 'Action'}\n",
      "decade {'years': '1980s'}\n",
      "movie {'favorite': 'True', 'title': 'Indiana Jones: The raiders of the lost Ark'}\n",
      "format {'multiple': 'No'}\n",
      "year {}\n",
      "rating {}\n",
      "description {}\n",
      "movie {'favorite': 'True', 'title': 'THE KARATE KID'}\n",
      "format {'multiple': 'Yes'}\n",
      "year {}\n",
      "rating {}\n",
      "description {}\n",
      "movie {'favorite': 'False', 'title': 'Back to the Future'}\n",
      "format {'multiple': 'No'}\n",
      "year {}\n",
      "rating {}\n",
      "description {}\n",
      "decade {'years': '1990s'}\n",
      "movie {'favorite': 'False', 'title': 'X-Men'}\n",
      "format {'multiple': 'Yes'}\n",
      "year {}\n",
      "rating {}\n",
      "description {}\n",
      "movie {'favorite': 'True', 'title': 'Batman Returns'}\n",
      "format {'multiple': 'No'}\n",
      "year {}\n",
      "rating {}\n",
      "description {}\n",
      "movie {'favorite': 'False', 'title': 'Reservoir Dogs'}\n",
      "format {'multiple': 'No'}\n",
      "year {}\n",
      "rating {}\n",
      "description {}\n",
      "genre {'category': 'Thriller'}\n",
      "decade {'years': '1970s'}\n",
      "movie {'favorite': 'False', 'title': 'ALIEN'}\n",
      "format {'multiple': 'No'}\n",
      "year {}\n",
      "rating {}\n",
      "description {}\n",
      "decade {'years': '1980s'}\n",
      "movie {'favorite': 'True', 'title': \"Ferris Bueller's Day Off\"}\n",
      "format {'multiple': 'No'}\n",
      "year {}\n",
      "rating {}\n",
      "description {}\n",
      "movie {'favorite': 'FALSE', 'title': 'American Psycho'}\n",
      "format {'multiple': 'No'}\n",
      "year {}\n",
      "rating {}\n",
      "description {}\n"
     ]
    }
   ],
   "source": [
    "#5+\n",
    "import xml.etree.ElementTree as ET\n",
    "\n",
    "tree = ET.parse(\"movies.xml\")\n",
    "root = tree.getroot()\n",
    "for i in root.iter():\n",
    "    print(i.tag, i.attrib)"
   ]
  },
  {
   "cell_type": "code",
   "execution_count": 151,
   "metadata": {},
   "outputs": [
    {
     "data": {
      "text/plain": [
       "['collection',\n",
       " 'genre',\n",
       " 'decade',\n",
       " 'movie',\n",
       " 'format',\n",
       " 'year',\n",
       " 'rating',\n",
       " 'description',\n",
       " 'movie',\n",
       " 'format',\n",
       " 'year',\n",
       " 'rating',\n",
       " 'description',\n",
       " 'movie',\n",
       " 'format',\n",
       " 'year',\n",
       " 'rating',\n",
       " 'description',\n",
       " 'decade',\n",
       " 'movie',\n",
       " 'format',\n",
       " 'year',\n",
       " 'rating',\n",
       " 'description',\n",
       " 'movie',\n",
       " 'format',\n",
       " 'year',\n",
       " 'rating',\n",
       " 'description',\n",
       " 'movie',\n",
       " 'format',\n",
       " 'year',\n",
       " 'rating',\n",
       " 'description',\n",
       " 'genre',\n",
       " 'decade',\n",
       " 'movie',\n",
       " 'format',\n",
       " 'year',\n",
       " 'rating',\n",
       " 'description',\n",
       " 'decade',\n",
       " 'movie',\n",
       " 'format',\n",
       " 'year',\n",
       " 'rating',\n",
       " 'description',\n",
       " 'movie',\n",
       " 'format',\n",
       " 'year',\n",
       " 'rating',\n",
       " 'description']"
      ]
     },
     "execution_count": 151,
     "metadata": {},
     "output_type": "execute_result"
    }
   ],
   "source": [
    "#6+\n",
    "[i.tag for i in root.iter()]"
   ]
  },
  {
   "cell_type": "code",
   "execution_count": 152,
   "metadata": {},
   "outputs": [
    {
     "name": "stdout",
     "output_type": "stream",
     "text": [
      "{'favorite': 'True', 'title': 'Batman Returns'}\n",
      "{'favorite': 'False', 'title': 'Reservoir Dogs'}\n"
     ]
    }
   ],
   "source": [
    "#7+\n",
    "for movie in root.findall(\"./genre/decade/movie/[year='1992']\"):\n",
    "    print(movie.attrib)"
   ]
  },
  {
   "cell_type": "code",
   "execution_count": 153,
   "metadata": {},
   "outputs": [
    {
     "name": "stdout",
     "output_type": "stream",
     "text": [
      "{'favorite': 'True', 'title': 'THE KARATE KID'}\n",
      "{'favorite': 'False', 'title': 'X-Men'}\n"
     ]
    }
   ],
   "source": [
    "#8+\n",
    "for movie in root.findall(\"./genre/decade/movie/format[@multiple='Yes']...\"):\n",
    "    print(movie.attrib)"
   ]
  },
  {
   "cell_type": "code",
   "execution_count": 154,
   "metadata": {},
   "outputs": [
    {
     "name": "stdout",
     "output_type": "stream",
     "text": [
      "Indiana Jones: The raiders of the lost Ark\n",
      "THE KARATE KID\n",
      "Back to the Future\n",
      "X-Men\n",
      "Batman Returns\n",
      "Reservoir Dogs\n",
      "ALIEN\n",
      "Ferris Bueller's Day Off\n",
      "American Psycho\n"
     ]
    }
   ],
   "source": [
    "#9+\n",
    "for movie in root.iter(\"movie\"):\n",
    "    if movie.attrib[\"title\"] == \"Back 2 the Future\":\n",
    "        movie.attrib[\"title\"] = \"Back to the Future\"\n",
    "        \n",
    "for movie in root.iter(\"movie\"):\n",
    "    print(movie.attrib[\"title\"])"
   ]
  },
  {
   "cell_type": "code",
   "execution_count": 155,
   "metadata": {},
   "outputs": [
    {
     "name": "stdout",
     "output_type": "stream",
     "text": [
      "{'multiple': 'No'} DVD\n",
      "{'multiple': 'Yes'} DVD,Online\n",
      "{'multiple': 'No'} Blu-ray\n",
      "{'multiple': 'Yes'} dvd, digital\n",
      "{'multiple': 'No'} VHS\n",
      "{'multiple': 'No'} Online\n",
      "{'multiple': 'No'} DVD\n",
      "{'multiple': 'No'} DVD\n",
      "{'multiple': 'No'} blue-ray\n"
     ]
    }
   ],
   "source": [
    "#10+\n",
    "import re\n",
    "\n",
    "for item in root.findall(\"./genre/decade/movie/format\"):\n",
    "    is_comma = re.search(\",\",item.text)\n",
    "    if is_comma:\n",
    "        item.set(\"multiple\",'Yes')\n",
    "    else:\n",
    "        item.set(\"multiple\",'No')\n",
    "        \n",
    "        \n",
    "for form in root.findall(\"./genre/decade/movie/format\"):\n",
    "    print(form.attrib, form.text)"
   ]
  },
  {
   "cell_type": "code",
   "execution_count": null,
   "metadata": {},
   "outputs": [],
   "source": []
  }
 ],
 "metadata": {
  "kernelspec": {
   "display_name": "Python 3",
   "language": "python",
   "name": "python3"
  },
  "language_info": {
   "codemirror_mode": {
    "name": "ipython",
    "version": 3
   },
   "file_extension": ".py",
   "mimetype": "text/x-python",
   "name": "python",
   "nbconvert_exporter": "python",
   "pygments_lexer": "ipython3",
   "version": "3.7.6"
  }
 },
 "nbformat": 4,
 "nbformat_minor": 4
}
